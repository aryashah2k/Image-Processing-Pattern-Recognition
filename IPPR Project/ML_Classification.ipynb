{
  "nbformat": 4,
  "nbformat_minor": 0,
  "metadata": {
    "colab": {
      "provenance": []
    },
    "kernelspec": {
      "name": "python3",
      "display_name": "Python 3"
    },
    "language_info": {
      "name": "python"
    }
  },
  "cells": [
    {
      "cell_type": "code",
      "source": [
        "import numpy as np\n",
        "import pandas as pd\n",
        "import matplotlib.pyplot as plt\n",
        "import seaborn as sns\n",
        "from sklearn.metrics import accuracy_score"
      ],
      "metadata": {
        "id": "xbpDCtpy7xXA"
      },
      "execution_count": null,
      "outputs": []
    },
    {
      "cell_type": "code",
      "source": [
        "dataset = pd.read_csv('breast_ultrasound_texture_features.csv')"
      ],
      "metadata": {
        "id": "Pcgk-eqo7yUt"
      },
      "execution_count": null,
      "outputs": []
    },
    {
      "cell_type": "code",
      "source": [
        "dataset.head()"
      ],
      "metadata": {
        "colab": {
          "base_uri": "https://localhost:8080/",
          "height": 299
        },
        "id": "AX_BCCuR7ySX",
        "outputId": "b47b1a38-3879-45ef-cd41-e015281d62e0"
      },
      "execution_count": null,
      "outputs": [
        {
          "output_type": "execute_result",
          "data": {
            "text/plain": [
              "    gray_mean  gray_std_dev  Histeq_mean  Histeq_std  clahe_mean  \\\n",
              "0   74.876256     63.468551   110.904058   81.051578   93.471062   \n",
              "1  101.503308     54.108639   118.583646   78.476270  112.083785   \n",
              "2   79.367427     55.246966   116.423190   79.154257   92.369340   \n",
              "3   70.865374     66.895994   126.632753   73.078733   82.296496   \n",
              "4   83.278001     69.988086   112.217455   80.678704   88.914481   \n",
              "\n",
              "   clahe_std_dev  sobel_meanx  sobel_std_devx  sobel_meany  sobel_std_devy  \\\n",
              "0      67.413608     2.398916       80.653901    -2.340721      109.819187   \n",
              "1      61.569969     2.267857       66.633513    -1.850925      119.290764   \n",
              "2      60.952425     0.065689       45.230026    -2.429688       76.195327   \n",
              "3      66.442736    -0.263791       52.176500    -4.028619       83.080157   \n",
              "4      65.568600     2.021046       49.794454    -1.869101       67.944682   \n",
              "\n",
              "   ...   otsu_std  canny_mean   canny_std     Entropy    Energy  Correlation  \\\n",
              "0  ...  81.051578   72.709762  115.127233  229.112568  0.130662     0.971508   \n",
              "1  ...  78.476270   78.726981  117.802558  161.143538  0.072285     0.972289   \n",
              "2  ...  79.154257   37.348434   90.160662   51.642857  0.091012     0.991528   \n",
              "3  ...  73.078733   43.513034   95.929347   82.567805  0.083044     0.990779   \n",
              "4  ...  80.678704   36.946947   89.757421   58.493874  0.121628     0.994028   \n",
              "\n",
              "    Dissimilarity  Homogenity    Contrast  label  \n",
              "0        9.867813    0.219772  229.112568      0  \n",
              "1        9.177691    0.165786  161.143538      0  \n",
              "2        3.561939    0.351833   51.642857      0  \n",
              "3        4.375941    0.323460   82.567805      0  \n",
              "4        4.041200    0.342191   58.493874      0  \n",
              "\n",
              "[5 rows x 25 columns]"
            ],
            "text/html": [
              "\n",
              "  <div id=\"df-7cbc1597-bf87-47f5-9e4c-9f1023f5982b\">\n",
              "    <div class=\"colab-df-container\">\n",
              "      <div>\n",
              "<style scoped>\n",
              "    .dataframe tbody tr th:only-of-type {\n",
              "        vertical-align: middle;\n",
              "    }\n",
              "\n",
              "    .dataframe tbody tr th {\n",
              "        vertical-align: top;\n",
              "    }\n",
              "\n",
              "    .dataframe thead th {\n",
              "        text-align: right;\n",
              "    }\n",
              "</style>\n",
              "<table border=\"1\" class=\"dataframe\">\n",
              "  <thead>\n",
              "    <tr style=\"text-align: right;\">\n",
              "      <th></th>\n",
              "      <th>gray_mean</th>\n",
              "      <th>gray_std_dev</th>\n",
              "      <th>Histeq_mean</th>\n",
              "      <th>Histeq_std</th>\n",
              "      <th>clahe_mean</th>\n",
              "      <th>clahe_std_dev</th>\n",
              "      <th>sobel_meanx</th>\n",
              "      <th>sobel_std_devx</th>\n",
              "      <th>sobel_meany</th>\n",
              "      <th>sobel_std_devy</th>\n",
              "      <th>...</th>\n",
              "      <th>otsu_std</th>\n",
              "      <th>canny_mean</th>\n",
              "      <th>canny_std</th>\n",
              "      <th>Entropy</th>\n",
              "      <th>Energy</th>\n",
              "      <th>Correlation</th>\n",
              "      <th>Dissimilarity</th>\n",
              "      <th>Homogenity</th>\n",
              "      <th>Contrast</th>\n",
              "      <th>label</th>\n",
              "    </tr>\n",
              "  </thead>\n",
              "  <tbody>\n",
              "    <tr>\n",
              "      <th>0</th>\n",
              "      <td>74.876256</td>\n",
              "      <td>63.468551</td>\n",
              "      <td>110.904058</td>\n",
              "      <td>81.051578</td>\n",
              "      <td>93.471062</td>\n",
              "      <td>67.413608</td>\n",
              "      <td>2.398916</td>\n",
              "      <td>80.653901</td>\n",
              "      <td>-2.340721</td>\n",
              "      <td>109.819187</td>\n",
              "      <td>...</td>\n",
              "      <td>81.051578</td>\n",
              "      <td>72.709762</td>\n",
              "      <td>115.127233</td>\n",
              "      <td>229.112568</td>\n",
              "      <td>0.130662</td>\n",
              "      <td>0.971508</td>\n",
              "      <td>9.867813</td>\n",
              "      <td>0.219772</td>\n",
              "      <td>229.112568</td>\n",
              "      <td>0</td>\n",
              "    </tr>\n",
              "    <tr>\n",
              "      <th>1</th>\n",
              "      <td>101.503308</td>\n",
              "      <td>54.108639</td>\n",
              "      <td>118.583646</td>\n",
              "      <td>78.476270</td>\n",
              "      <td>112.083785</td>\n",
              "      <td>61.569969</td>\n",
              "      <td>2.267857</td>\n",
              "      <td>66.633513</td>\n",
              "      <td>-1.850925</td>\n",
              "      <td>119.290764</td>\n",
              "      <td>...</td>\n",
              "      <td>78.476270</td>\n",
              "      <td>78.726981</td>\n",
              "      <td>117.802558</td>\n",
              "      <td>161.143538</td>\n",
              "      <td>0.072285</td>\n",
              "      <td>0.972289</td>\n",
              "      <td>9.177691</td>\n",
              "      <td>0.165786</td>\n",
              "      <td>161.143538</td>\n",
              "      <td>0</td>\n",
              "    </tr>\n",
              "    <tr>\n",
              "      <th>2</th>\n",
              "      <td>79.367427</td>\n",
              "      <td>55.246966</td>\n",
              "      <td>116.423190</td>\n",
              "      <td>79.154257</td>\n",
              "      <td>92.369340</td>\n",
              "      <td>60.952425</td>\n",
              "      <td>0.065689</td>\n",
              "      <td>45.230026</td>\n",
              "      <td>-2.429688</td>\n",
              "      <td>76.195327</td>\n",
              "      <td>...</td>\n",
              "      <td>79.154257</td>\n",
              "      <td>37.348434</td>\n",
              "      <td>90.160662</td>\n",
              "      <td>51.642857</td>\n",
              "      <td>0.091012</td>\n",
              "      <td>0.991528</td>\n",
              "      <td>3.561939</td>\n",
              "      <td>0.351833</td>\n",
              "      <td>51.642857</td>\n",
              "      <td>0</td>\n",
              "    </tr>\n",
              "    <tr>\n",
              "      <th>3</th>\n",
              "      <td>70.865374</td>\n",
              "      <td>66.895994</td>\n",
              "      <td>126.632753</td>\n",
              "      <td>73.078733</td>\n",
              "      <td>82.296496</td>\n",
              "      <td>66.442736</td>\n",
              "      <td>-0.263791</td>\n",
              "      <td>52.176500</td>\n",
              "      <td>-4.028619</td>\n",
              "      <td>83.080157</td>\n",
              "      <td>...</td>\n",
              "      <td>73.078733</td>\n",
              "      <td>43.513034</td>\n",
              "      <td>95.929347</td>\n",
              "      <td>82.567805</td>\n",
              "      <td>0.083044</td>\n",
              "      <td>0.990779</td>\n",
              "      <td>4.375941</td>\n",
              "      <td>0.323460</td>\n",
              "      <td>82.567805</td>\n",
              "      <td>0</td>\n",
              "    </tr>\n",
              "    <tr>\n",
              "      <th>4</th>\n",
              "      <td>83.278001</td>\n",
              "      <td>69.988086</td>\n",
              "      <td>112.217455</td>\n",
              "      <td>80.678704</td>\n",
              "      <td>88.914481</td>\n",
              "      <td>65.568600</td>\n",
              "      <td>2.021046</td>\n",
              "      <td>49.794454</td>\n",
              "      <td>-1.869101</td>\n",
              "      <td>67.944682</td>\n",
              "      <td>...</td>\n",
              "      <td>80.678704</td>\n",
              "      <td>36.946947</td>\n",
              "      <td>89.757421</td>\n",
              "      <td>58.493874</td>\n",
              "      <td>0.121628</td>\n",
              "      <td>0.994028</td>\n",
              "      <td>4.041200</td>\n",
              "      <td>0.342191</td>\n",
              "      <td>58.493874</td>\n",
              "      <td>0</td>\n",
              "    </tr>\n",
              "  </tbody>\n",
              "</table>\n",
              "<p>5 rows × 25 columns</p>\n",
              "</div>\n",
              "      <button class=\"colab-df-convert\" onclick=\"convertToInteractive('df-7cbc1597-bf87-47f5-9e4c-9f1023f5982b')\"\n",
              "              title=\"Convert this dataframe to an interactive table.\"\n",
              "              style=\"display:none;\">\n",
              "        \n",
              "  <svg xmlns=\"http://www.w3.org/2000/svg\" height=\"24px\"viewBox=\"0 0 24 24\"\n",
              "       width=\"24px\">\n",
              "    <path d=\"M0 0h24v24H0V0z\" fill=\"none\"/>\n",
              "    <path d=\"M18.56 5.44l.94 2.06.94-2.06 2.06-.94-2.06-.94-.94-2.06-.94 2.06-2.06.94zm-11 1L8.5 8.5l.94-2.06 2.06-.94-2.06-.94L8.5 2.5l-.94 2.06-2.06.94zm10 10l.94 2.06.94-2.06 2.06-.94-2.06-.94-.94-2.06-.94 2.06-2.06.94z\"/><path d=\"M17.41 7.96l-1.37-1.37c-.4-.4-.92-.59-1.43-.59-.52 0-1.04.2-1.43.59L10.3 9.45l-7.72 7.72c-.78.78-.78 2.05 0 2.83L4 21.41c.39.39.9.59 1.41.59.51 0 1.02-.2 1.41-.59l7.78-7.78 2.81-2.81c.8-.78.8-2.07 0-2.86zM5.41 20L4 18.59l7.72-7.72 1.47 1.35L5.41 20z\"/>\n",
              "  </svg>\n",
              "      </button>\n",
              "      \n",
              "  <style>\n",
              "    .colab-df-container {\n",
              "      display:flex;\n",
              "      flex-wrap:wrap;\n",
              "      gap: 12px;\n",
              "    }\n",
              "\n",
              "    .colab-df-convert {\n",
              "      background-color: #E8F0FE;\n",
              "      border: none;\n",
              "      border-radius: 50%;\n",
              "      cursor: pointer;\n",
              "      display: none;\n",
              "      fill: #1967D2;\n",
              "      height: 32px;\n",
              "      padding: 0 0 0 0;\n",
              "      width: 32px;\n",
              "    }\n",
              "\n",
              "    .colab-df-convert:hover {\n",
              "      background-color: #E2EBFA;\n",
              "      box-shadow: 0px 1px 2px rgba(60, 64, 67, 0.3), 0px 1px 3px 1px rgba(60, 64, 67, 0.15);\n",
              "      fill: #174EA6;\n",
              "    }\n",
              "\n",
              "    [theme=dark] .colab-df-convert {\n",
              "      background-color: #3B4455;\n",
              "      fill: #D2E3FC;\n",
              "    }\n",
              "\n",
              "    [theme=dark] .colab-df-convert:hover {\n",
              "      background-color: #434B5C;\n",
              "      box-shadow: 0px 1px 3px 1px rgba(0, 0, 0, 0.15);\n",
              "      filter: drop-shadow(0px 1px 2px rgba(0, 0, 0, 0.3));\n",
              "      fill: #FFFFFF;\n",
              "    }\n",
              "  </style>\n",
              "\n",
              "      <script>\n",
              "        const buttonEl =\n",
              "          document.querySelector('#df-7cbc1597-bf87-47f5-9e4c-9f1023f5982b button.colab-df-convert');\n",
              "        buttonEl.style.display =\n",
              "          google.colab.kernel.accessAllowed ? 'block' : 'none';\n",
              "\n",
              "        async function convertToInteractive(key) {\n",
              "          const element = document.querySelector('#df-7cbc1597-bf87-47f5-9e4c-9f1023f5982b');\n",
              "          const dataTable =\n",
              "            await google.colab.kernel.invokeFunction('convertToInteractive',\n",
              "                                                     [key], {});\n",
              "          if (!dataTable) return;\n",
              "\n",
              "          const docLinkHtml = 'Like what you see? Visit the ' +\n",
              "            '<a target=\"_blank\" href=https://colab.research.google.com/notebooks/data_table.ipynb>data table notebook</a>'\n",
              "            + ' to learn more about interactive tables.';\n",
              "          element.innerHTML = '';\n",
              "          dataTable['output_type'] = 'display_data';\n",
              "          await google.colab.output.renderOutput(dataTable, element);\n",
              "          const docLink = document.createElement('div');\n",
              "          docLink.innerHTML = docLinkHtml;\n",
              "          element.appendChild(docLink);\n",
              "        }\n",
              "      </script>\n",
              "    </div>\n",
              "  </div>\n",
              "  "
            ]
          },
          "metadata": {},
          "execution_count": 20
        }
      ]
    },
    {
      "cell_type": "code",
      "source": [
        "dataset.columns"
      ],
      "metadata": {
        "colab": {
          "base_uri": "https://localhost:8080/"
        },
        "id": "Uin-EfTZ7yQL",
        "outputId": "b109f70c-2115-433d-e3d8-707c925c42aa"
      },
      "execution_count": null,
      "outputs": [
        {
          "output_type": "execute_result",
          "data": {
            "text/plain": [
              "Index(['gray_mean', 'gray_std_dev', 'Histeq_mean', 'Histeq_std', 'clahe_mean',\n",
              "       'clahe_std_dev', 'sobel_meanx', 'sobel_std_devx', 'sobel_meany',\n",
              "       'sobel_std_devy', 'adaptive_mean', 'adaptive_std_dev', 'bi_mean',\n",
              "       'bi_std', 'otsu_mean', 'otsu_std', 'canny_mean', 'canny_std', 'Entropy',\n",
              "       'Energy', 'Correlation', ' Dissimilarity', 'Homogenity', 'Contrast',\n",
              "       'label'],\n",
              "      dtype='object')"
            ]
          },
          "metadata": {},
          "execution_count": 21
        }
      ]
    },
    {
      "cell_type": "code",
      "source": [
        "dataset.shape"
      ],
      "metadata": {
        "colab": {
          "base_uri": "https://localhost:8080/"
        },
        "id": "SY4KTrW97yN5",
        "outputId": "64d16aad-10c9-46c6-eda4-77c0ed905de0"
      },
      "execution_count": null,
      "outputs": [
        {
          "output_type": "execute_result",
          "data": {
            "text/plain": [
              "(8158, 25)"
            ]
          },
          "metadata": {},
          "execution_count": 22
        }
      ]
    },
    {
      "cell_type": "code",
      "source": [
        "dataset.info"
      ],
      "metadata": {
        "colab": {
          "base_uri": "https://localhost:8080/"
        },
        "id": "aJfGIvYz7yLl",
        "outputId": "5ef1982d-d00a-4444-c076-c63a7f2a9de8"
      },
      "execution_count": null,
      "outputs": [
        {
          "output_type": "execute_result",
          "data": {
            "text/plain": [
              "<bound method DataFrame.info of        gray_mean  gray_std_dev  Histeq_mean  Histeq_std  clahe_mean  \\\n",
              "0      74.876256     63.468551   110.904058   81.051578   93.471062   \n",
              "1     101.503308     54.108639   118.583646   78.476270  112.083785   \n",
              "2      79.367427     55.246966   116.423190   79.154257   92.369340   \n",
              "3      70.865374     66.895994   126.632753   73.078733   82.296496   \n",
              "4      83.278001     69.988086   112.217455   80.678704   88.914481   \n",
              "...          ...           ...          ...         ...         ...   \n",
              "8153   74.658024     62.985080   112.322126   80.561843   85.720125   \n",
              "8154  103.802455     70.440946   125.349809   74.972687  112.854512   \n",
              "8155   64.571369     50.480612   115.848174   79.415403   87.639788   \n",
              "8156   70.918427     46.525366   111.266323   81.210542   89.843670   \n",
              "8157   59.074936     53.986352   106.836775   82.273517   77.736787   \n",
              "\n",
              "      clahe_std_dev  sobel_meanx  sobel_std_devx  sobel_meany  sobel_std_devy  \\\n",
              "0         67.413608     2.398916       80.653901    -2.340721      109.819187   \n",
              "1         61.569969     2.267857       66.633513    -1.850925      119.290764   \n",
              "2         60.952425     0.065689       45.230026    -2.429688       76.195327   \n",
              "3         66.442736    -0.263791       52.176500    -4.028619       83.080157   \n",
              "4         65.568600     2.021046       49.794454    -1.869101       67.944682   \n",
              "...             ...          ...             ...          ...             ...   \n",
              "8153      62.126037     1.064015       50.356210    -2.083386       74.151094   \n",
              "8154      65.888022     1.693240       81.007055    -3.739716      167.188002   \n",
              "8155      59.399906     1.305724       53.000435    -1.071269       95.696625   \n",
              "8156      61.478544    -0.568559       62.541018    -0.639110       84.100297   \n",
              "8157      60.459603     1.419165       62.281779    -1.453125       70.304681   \n",
              "\n",
              "      ...   otsu_std  canny_mean   canny_std     Entropy    Energy  \\\n",
              "0     ...  81.051578   72.709762  115.127233  229.112568  0.130662   \n",
              "1     ...  78.476270   78.726981  117.802558  161.143538  0.072285   \n",
              "2     ...  79.154257   37.348434   90.160662   51.642857  0.091012   \n",
              "3     ...  73.078733   43.513034   95.929347   82.567805  0.083044   \n",
              "4     ...  80.678704   36.946947   89.757421   58.493874  0.121628   \n",
              "...   ...        ...         ...         ...         ...       ...   \n",
              "8153  ...  80.561843   37.292530   90.104730   64.224796  0.121378   \n",
              "8154  ...  74.972687   81.181641  118.789139  250.622758  0.022266   \n",
              "8155  ...  79.415403   49.265984  100.676158   80.195328  0.095509   \n",
              "8156  ...  81.210542   49.753866  101.053395   91.866212  0.130687   \n",
              "8157  ...  82.273517   49.347298  100.739293  101.146981  0.164822   \n",
              "\n",
              "      Correlation   Dissimilarity  Homogenity    Contrast  label  \n",
              "0        0.971508        9.867813    0.219772  229.112568      0  \n",
              "1        0.972289        9.177691    0.165786  161.143538      0  \n",
              "2        0.991528        3.561939    0.351833   51.642857      0  \n",
              "3        0.990779        4.375941    0.323460   82.567805      0  \n",
              "4        0.994028        4.041200    0.342191   58.493874      0  \n",
              "...           ...             ...         ...         ...    ...  \n",
              "8153     0.991905        3.890675    0.364885   64.224796      1  \n",
              "8154     0.974690       10.536915    0.130216  250.622758      1  \n",
              "8155     0.984252        4.781530    0.307217   80.195328      1  \n",
              "8156     0.978711        5.726077    0.308333   91.866212      1  \n",
              "8157     0.982642        5.414518    0.349492  101.146981      1  \n",
              "\n",
              "[8158 rows x 25 columns]>"
            ]
          },
          "metadata": {},
          "execution_count": 23
        }
      ]
    },
    {
      "cell_type": "code",
      "source": [
        "X = dataset.drop(['label'], axis=1)\n",
        "\n",
        "y = dataset['label']"
      ],
      "metadata": {
        "id": "6ZiUg1OV8GWM"
      },
      "execution_count": null,
      "outputs": []
    },
    {
      "cell_type": "code",
      "source": [
        "from sklearn.model_selection import train_test_split\n",
        "\n",
        "X_train, X_test, y_train, y_test = train_test_split(X, y, test_size = 0.2, random_state = 0)"
      ],
      "metadata": {
        "id": "qEhO7lmX8rh4"
      },
      "execution_count": null,
      "outputs": []
    },
    {
      "cell_type": "code",
      "source": [
        "X_train.shape, X_test.shape"
      ],
      "metadata": {
        "colab": {
          "base_uri": "https://localhost:8080/"
        },
        "id": "rK7OEg9L8rgC",
        "outputId": "c768da9a-6ca1-467c-d58a-991e03ba0fed"
      },
      "execution_count": null,
      "outputs": [
        {
          "output_type": "execute_result",
          "data": {
            "text/plain": [
              "((6526, 24), (1632, 24))"
            ]
          },
          "metadata": {},
          "execution_count": 27
        }
      ]
    },
    {
      "cell_type": "code",
      "source": [
        "from sklearn.model_selection import KFold\n",
        "from sklearn.neighbors import KNeighborsClassifier\n",
        "\n",
        "# Initialize KFold with number of splits\n",
        "kf = KFold(n_splits=10, shuffle=True, random_state=42)\n",
        "\n",
        "# Loop over the K-folds\n",
        "for train_idx, test_idx in kf.split(X):\n",
        "    # Split data into training and test sets\n",
        "    X_train, X_test = X.iloc[train_idx], X.iloc[test_idx]\n",
        "    y_train, y_test = y.iloc[train_idx], y.iloc[test_idx]\n",
        "\n",
        "    # Train your model on the training set\n",
        "    model = KNeighborsClassifier(n_neighbors=5)\n",
        "    model.fit(X_train, y_train)\n",
        "\n",
        "    # Evaluate your model on the test set\n",
        "    score = model.score(X_test, y_test)\n",
        "\n",
        "    # Do whatever you want with the score\n",
        "    print(score)"
      ],
      "metadata": {
        "colab": {
          "base_uri": "https://localhost:8080/"
        },
        "id": "30vcVv3KWkJr",
        "outputId": "f905fc3b-a50a-4582-8bec-94bae2e3e534"
      },
      "execution_count": null,
      "outputs": [
        {
          "output_type": "stream",
          "name": "stdout",
          "text": [
            "0.7855392156862745\n",
            "0.7549019607843137\n",
            "0.7830882352941176\n",
            "0.7781862745098039\n",
            "0.7757352941176471\n",
            "0.7769607843137255\n",
            "0.7549019607843137\n",
            "0.7696078431372549\n",
            "0.7668711656441718\n",
            "0.7779141104294478\n"
          ]
        }
      ]
    },
    {
      "cell_type": "code",
      "source": [
        "from sklearn.model_selection import KFold\n",
        "from sklearn.linear_model import LogisticRegression\n",
        "\n",
        "# Initialize KFold with number of splits\n",
        "kf = KFold(n_splits=10, shuffle=True, random_state=42)\n",
        "\n",
        "# Loop over the K-folds\n",
        "for train_idx, test_idx in kf.split(X):\n",
        "    # Split data into training and test sets\n",
        "    X_train, X_test = X.iloc[train_idx], X.iloc[test_idx]\n",
        "    y_train, y_test = y.iloc[train_idx], y.iloc[test_idx]\n",
        "\n",
        "    # Train your model on the training set\n",
        "    model = LogisticRegression(solver='newton-cg')\n",
        "    model.fit(X_train, y_train)\n",
        "\n",
        "    # Evaluate your model on the test set\n",
        "    score = model.score(X_test, y_test)\n",
        "\n",
        "    # Do whatever you want with the score\n",
        "    print(score)"
      ],
      "metadata": {
        "colab": {
          "base_uri": "https://localhost:8080/"
        },
        "id": "74h3mPphWkHF",
        "outputId": "48d790d1-4e7e-4aaf-f887-e18b7b233606"
      },
      "execution_count": null,
      "outputs": [
        {
          "output_type": "stream",
          "name": "stderr",
          "text": [
            "/usr/local/lib/python3.9/dist-packages/scipy/optimize/_linesearch.py:457: LineSearchWarning: The line search algorithm did not converge\n",
            "  warn('The line search algorithm did not converge', LineSearchWarning)\n",
            "/usr/local/lib/python3.9/dist-packages/scipy/optimize/_linesearch.py:306: LineSearchWarning: The line search algorithm did not converge\n",
            "  warn('The line search algorithm did not converge', LineSearchWarning)\n"
          ]
        },
        {
          "output_type": "stream",
          "name": "stdout",
          "text": [
            "0.7095588235294118\n"
          ]
        },
        {
          "output_type": "stream",
          "name": "stderr",
          "text": [
            "/usr/local/lib/python3.9/dist-packages/scipy/optimize/_linesearch.py:457: LineSearchWarning: The line search algorithm did not converge\n",
            "  warn('The line search algorithm did not converge', LineSearchWarning)\n",
            "/usr/local/lib/python3.9/dist-packages/scipy/optimize/_linesearch.py:306: LineSearchWarning: The line search algorithm did not converge\n",
            "  warn('The line search algorithm did not converge', LineSearchWarning)\n"
          ]
        },
        {
          "output_type": "stream",
          "name": "stdout",
          "text": [
            "0.7291666666666666\n"
          ]
        },
        {
          "output_type": "stream",
          "name": "stderr",
          "text": [
            "/usr/local/lib/python3.9/dist-packages/scipy/optimize/_linesearch.py:457: LineSearchWarning: The line search algorithm did not converge\n",
            "  warn('The line search algorithm did not converge', LineSearchWarning)\n",
            "/usr/local/lib/python3.9/dist-packages/scipy/optimize/_linesearch.py:306: LineSearchWarning: The line search algorithm did not converge\n",
            "  warn('The line search algorithm did not converge', LineSearchWarning)\n",
            "/usr/local/lib/python3.9/dist-packages/sklearn/utils/optimize.py:210: ConvergenceWarning: newton-cg failed to converge. Increase the number of iterations.\n",
            "  warnings.warn(\n"
          ]
        },
        {
          "output_type": "stream",
          "name": "stdout",
          "text": [
            "0.7169117647058824\n"
          ]
        },
        {
          "output_type": "stream",
          "name": "stderr",
          "text": [
            "/usr/local/lib/python3.9/dist-packages/scipy/optimize/_linesearch.py:457: LineSearchWarning: The line search algorithm did not converge\n",
            "  warn('The line search algorithm did not converge', LineSearchWarning)\n",
            "/usr/local/lib/python3.9/dist-packages/scipy/optimize/_linesearch.py:306: LineSearchWarning: The line search algorithm did not converge\n",
            "  warn('The line search algorithm did not converge', LineSearchWarning)\n",
            "/usr/local/lib/python3.9/dist-packages/sklearn/utils/optimize.py:210: ConvergenceWarning: newton-cg failed to converge. Increase the number of iterations.\n",
            "  warnings.warn(\n"
          ]
        },
        {
          "output_type": "stream",
          "name": "stdout",
          "text": [
            "0.7279411764705882\n"
          ]
        },
        {
          "output_type": "stream",
          "name": "stderr",
          "text": [
            "/usr/local/lib/python3.9/dist-packages/scipy/optimize/_linesearch.py:457: LineSearchWarning: The line search algorithm did not converge\n",
            "  warn('The line search algorithm did not converge', LineSearchWarning)\n",
            "/usr/local/lib/python3.9/dist-packages/scipy/optimize/_linesearch.py:306: LineSearchWarning: The line search algorithm did not converge\n",
            "  warn('The line search algorithm did not converge', LineSearchWarning)\n"
          ]
        },
        {
          "output_type": "stream",
          "name": "stdout",
          "text": [
            "0.7242647058823529\n"
          ]
        },
        {
          "output_type": "stream",
          "name": "stderr",
          "text": [
            "/usr/local/lib/python3.9/dist-packages/scipy/optimize/_linesearch.py:457: LineSearchWarning: The line search algorithm did not converge\n",
            "  warn('The line search algorithm did not converge', LineSearchWarning)\n",
            "/usr/local/lib/python3.9/dist-packages/scipy/optimize/_linesearch.py:306: LineSearchWarning: The line search algorithm did not converge\n",
            "  warn('The line search algorithm did not converge', LineSearchWarning)\n",
            "/usr/local/lib/python3.9/dist-packages/sklearn/utils/optimize.py:210: ConvergenceWarning: newton-cg failed to converge. Increase the number of iterations.\n",
            "  warnings.warn(\n"
          ]
        },
        {
          "output_type": "stream",
          "name": "stdout",
          "text": [
            "0.7328431372549019\n"
          ]
        },
        {
          "output_type": "stream",
          "name": "stderr",
          "text": [
            "/usr/local/lib/python3.9/dist-packages/scipy/optimize/_linesearch.py:457: LineSearchWarning: The line search algorithm did not converge\n",
            "  warn('The line search algorithm did not converge', LineSearchWarning)\n",
            "/usr/local/lib/python3.9/dist-packages/scipy/optimize/_linesearch.py:306: LineSearchWarning: The line search algorithm did not converge\n",
            "  warn('The line search algorithm did not converge', LineSearchWarning)\n"
          ]
        },
        {
          "output_type": "stream",
          "name": "stdout",
          "text": [
            "0.7316176470588235\n"
          ]
        },
        {
          "output_type": "stream",
          "name": "stderr",
          "text": [
            "/usr/local/lib/python3.9/dist-packages/scipy/optimize/_linesearch.py:457: LineSearchWarning: The line search algorithm did not converge\n",
            "  warn('The line search algorithm did not converge', LineSearchWarning)\n",
            "/usr/local/lib/python3.9/dist-packages/scipy/optimize/_linesearch.py:306: LineSearchWarning: The line search algorithm did not converge\n",
            "  warn('The line search algorithm did not converge', LineSearchWarning)\n"
          ]
        },
        {
          "output_type": "stream",
          "name": "stdout",
          "text": [
            "0.7303921568627451\n"
          ]
        },
        {
          "output_type": "stream",
          "name": "stderr",
          "text": [
            "/usr/local/lib/python3.9/dist-packages/scipy/optimize/_linesearch.py:457: LineSearchWarning: The line search algorithm did not converge\n",
            "  warn('The line search algorithm did not converge', LineSearchWarning)\n",
            "/usr/local/lib/python3.9/dist-packages/scipy/optimize/_linesearch.py:306: LineSearchWarning: The line search algorithm did not converge\n",
            "  warn('The line search algorithm did not converge', LineSearchWarning)\n"
          ]
        },
        {
          "output_type": "stream",
          "name": "stdout",
          "text": [
            "0.698159509202454\n",
            "0.7337423312883435\n"
          ]
        },
        {
          "output_type": "stream",
          "name": "stderr",
          "text": [
            "/usr/local/lib/python3.9/dist-packages/scipy/optimize/_linesearch.py:457: LineSearchWarning: The line search algorithm did not converge\n",
            "  warn('The line search algorithm did not converge', LineSearchWarning)\n",
            "/usr/local/lib/python3.9/dist-packages/scipy/optimize/_linesearch.py:306: LineSearchWarning: The line search algorithm did not converge\n",
            "  warn('The line search algorithm did not converge', LineSearchWarning)\n",
            "/usr/local/lib/python3.9/dist-packages/sklearn/utils/optimize.py:210: ConvergenceWarning: newton-cg failed to converge. Increase the number of iterations.\n",
            "  warnings.warn(\n"
          ]
        }
      ]
    },
    {
      "cell_type": "code",
      "source": [
        "from sklearn.model_selection import KFold\n",
        "from sklearn.tree import DecisionTreeClassifier\n",
        "\n",
        "# Initialize KFold with number of splits\n",
        "kf = KFold(n_splits=10, shuffle=True, random_state=42)\n",
        "\n",
        "# Loop over the K-folds\n",
        "for train_idx, test_idx in kf.split(X):\n",
        "    # Split data into training and test sets\n",
        "    X_train, X_test = X.iloc[train_idx], X.iloc[test_idx]\n",
        "    y_train, y_test = y.iloc[train_idx], y.iloc[test_idx]\n",
        "\n",
        "    # Train your model on the training set\n",
        "    model = DecisionTreeClassifier()\n",
        "    model.fit(X_train, y_train)\n",
        "\n",
        "    # Evaluate your model on the test set\n",
        "    score = model.score(X_test, y_test)\n",
        "\n",
        "    # Do whatever you want with the score\n",
        "    print(score)"
      ],
      "metadata": {
        "colab": {
          "base_uri": "https://localhost:8080/"
        },
        "id": "_MjbiiACWjpO",
        "outputId": "893523ed-b5f4-426b-ca38-e72c848d74a6"
      },
      "execution_count": null,
      "outputs": [
        {
          "output_type": "stream",
          "name": "stdout",
          "text": [
            "0.7941176470588235\n",
            "0.7573529411764706\n",
            "0.7757352941176471\n",
            "0.7806372549019608\n",
            "0.7512254901960784\n",
            "0.7904411764705882\n",
            "0.7794117647058824\n",
            "0.7647058823529411\n",
            "0.7558282208588957\n",
            "0.7914110429447853\n"
          ]
        }
      ]
    },
    {
      "cell_type": "code",
      "source": [
        "from sklearn.model_selection import KFold\n",
        "from sklearn.svm import SVC\n",
        "\n",
        "# Initialize KFold with number of splits\n",
        "kf = KFold(n_splits=10, shuffle=True, random_state=42)\n",
        "\n",
        "# Loop over the K-folds\n",
        "for train_idx, test_idx in kf.split(X):\n",
        "    # Split data into training and test sets\n",
        "    X_train, X_test = X.iloc[train_idx], X.iloc[test_idx]\n",
        "    y_train, y_test = y.iloc[train_idx], y.iloc[test_idx]\n",
        "\n",
        "    # Train your model on the training set\n",
        "    model = SVC()\n",
        "    model.fit(X_train, y_train)\n",
        "\n",
        "    # Evaluate your model on the test set\n",
        "    score = model.score(X_test, y_test)\n",
        "\n",
        "    # Do whatever you want with the score\n",
        "    print(score)"
      ],
      "metadata": {
        "colab": {
          "base_uri": "https://localhost:8080/"
        },
        "id": "391TrBlZWjnB",
        "outputId": "1f7bcdbf-8ef6-4aab-ddfb-58cbb38e857e"
      },
      "execution_count": null,
      "outputs": [
        {
          "output_type": "stream",
          "name": "stdout",
          "text": [
            "0.6875\n",
            "0.6458333333333334\n",
            "0.6605392156862745\n",
            "0.6519607843137255\n",
            "0.6556372549019608\n",
            "0.6752450980392157\n",
            "0.6507352941176471\n",
            "0.6348039215686274\n",
            "0.6159509202453988\n",
            "0.6613496932515337\n"
          ]
        }
      ]
    },
    {
      "cell_type": "code",
      "source": [],
      "metadata": {
        "id": "ULnMq4fzgajS"
      },
      "execution_count": null,
      "outputs": []
    }
  ]
}